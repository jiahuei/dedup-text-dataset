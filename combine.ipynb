{
 "cells": [
  {
   "cell_type": "code",
   "execution_count": 1,
   "id": "5d83873f",
   "metadata": {},
   "outputs": [],
   "source": [
    "import json\n",
    "import os\n",
    "from glob import glob\n",
    "from tqdm import tqdm"
   ]
  },
  {
   "cell_type": "code",
   "execution_count": 2,
   "id": "65c2c943",
   "metadata": {},
   "outputs": [],
   "source": [
    "# !pip3 install fasttext"
   ]
  },
  {
   "cell_type": "code",
   "execution_count": 3,
   "id": "bb20dbcb",
   "metadata": {},
   "outputs": [],
   "source": [
    "# import fasttext\n",
    "# import malaya\n",
    "\n",
    "# language_detection = malaya.language_detection.fasttext(model = 'mesolitica/fasttext-language-detection-ms-id')"
   ]
  },
  {
   "cell_type": "code",
   "execution_count": 4,
   "id": "54ac101b",
   "metadata": {
    "scrolled": true
   },
   "outputs": [
    {
     "data": {
      "text/plain": [
       "105"
      ]
     },
     "execution_count": 4,
     "metadata": {},
     "output_type": "execute_result"
    }
   ],
   "source": [
    "files = glob('hf-datasets/postprocessing/*.jsonl')\n",
    "len(files)"
   ]
  },
  {
   "cell_type": "code",
   "execution_count": 5,
   "id": "10e1d90d",
   "metadata": {
    "scrolled": false
   },
   "outputs": [
    {
     "data": {
      "text/plain": [
       "105"
      ]
     },
     "execution_count": 5,
     "metadata": {},
     "output_type": "execute_result"
    }
   ],
   "source": [
    "len(files)"
   ]
  },
  {
   "cell_type": "code",
   "execution_count": 6,
   "id": "017c6aed",
   "metadata": {},
   "outputs": [],
   "source": [
    "wiki = [\n",
    "    'hf-datasets/postprocessing/wikipedia.jsonl',\n",
    "    'hf-datasets/postprocessing/wikipedia-jawi.jsonl',\n",
    "]\n",
    "language_related = [\n",
    "    'hf-datasets/postprocessing/dictionary.jsonl',\n",
    "    'hf-datasets/postprocessing/dewanbahasa-jdbp.jsonl',\n",
    "]\n",
    "gov_related = [\n",
    "    'hf-datasets/postprocessing/hansard.jsonl',\n",
    "    'hf-datasets/postprocessing/lom.agc.gov.my.jsonl',\n",
    "    'hf-datasets/postprocessing/parlimen-gov.jsonl',\n",
    "    'hf-datasets/postprocessing/data.gov.my.jsonl',\n",
    "    'hf-datasets/postprocessing/mufti_wilayah_articles.jsonl',\n",
    "]\n",
    "research_papers = [\n",
    "    'hf-datasets/postprocessing/academia-edu.jsonl',\n",
    "    'hf-datasets/postprocessing/eprints.jsonl',\n",
    "]\n",
    "social_media = [\n",
    "    'hf-datasets/postprocessing/iium-confession.jsonl',\n",
    "    'hf-datasets/postprocessing/b.cari.com.my.jsonl',\n",
    "    'hf-datasets/postprocessing/semisupervised-whisper-large-v2.jsonl',\n",
    "    'hf-datasets/postprocessing/lowyat.jsonl',\n",
    "    'hf-datasets/postprocessing/malay-tweets.jsonl'\n",
    "]\n",
    "common_crawl = [\n",
    "    'hf-datasets/postprocessing/common-crawl.jsonl',\n",
    "    'hf-datasets/postprocessing/NLLB.jsonl',\n",
    "]"
   ]
  },
  {
   "cell_type": "code",
   "execution_count": 7,
   "id": "203a9ff3",
   "metadata": {},
   "outputs": [],
   "source": [
    "from transformers import AutoTokenizer\n",
    "tokenizer = AutoTokenizer.from_pretrained(\n",
    "    'meta-llama/Llama-2-7b-hf',\n",
    ")"
   ]
  },
  {
   "cell_type": "code",
   "execution_count": 8,
   "id": "06da941a",
   "metadata": {},
   "outputs": [],
   "source": [
    "# lens = []\n",
    "# a = []\n",
    "# for f in ['hf-datasets/postprocessing/eprints.jsonl']:\n",
    "#     with open(f) as fopen:\n",
    "#         for l in tqdm(fopen):\n",
    "#             data = json.loads(l)\n",
    "#             l_data = len(data.split())\n",
    "#             if l_data > 50000:\n",
    "#                 continue\n",
    "#             data_lower = data.lower()\n",
    "#             if any([r in data_lower for r in rejected]):\n",
    "#                 continue\n",
    "#             lens.append(l_data)\n",
    "#             a.append(data)"
   ]
  },
  {
   "cell_type": "code",
   "execution_count": 9,
   "id": "de45cce3",
   "metadata": {},
   "outputs": [],
   "source": [
    "def partition(text, size = 2500):\n",
    "    splitted = text.split()\n",
    "    return [' '.join(splitted[i: i + size]) for i in range(0, len(splitted), size)]"
   ]
  },
  {
   "cell_type": "code",
   "execution_count": 10,
   "id": "414d260e",
   "metadata": {},
   "outputs": [],
   "source": [
    "combine = set(wiki) | set(language_related) | set(gov_related) | set(research_papers) | set(social_media) | set(common_crawl)"
   ]
  },
  {
   "cell_type": "code",
   "execution_count": 11,
   "id": "d0704225",
   "metadata": {},
   "outputs": [
    {
     "data": {
      "text/plain": [
       "87"
      ]
     },
     "execution_count": 11,
     "metadata": {},
     "output_type": "execute_result"
    }
   ],
   "source": [
    "online_articles = sorted(list(set(files) - combine))\n",
    "len(online_articles)"
   ]
  },
  {
   "cell_type": "code",
   "execution_count": 12,
   "id": "eb00a747",
   "metadata": {},
   "outputs": [],
   "source": [
    "a = open('combine.jsonl', 'w')"
   ]
  },
  {
   "cell_type": "code",
   "execution_count": 13,
   "id": "143f742a",
   "metadata": {},
   "outputs": [
    {
     "name": "stderr",
     "output_type": "stream",
     "text": [
      "338649it [00:08, 41530.41it/s]\n",
      "722837it [00:21, 33940.67it/s]\n"
     ]
    }
   ],
   "source": [
    "for f in wiki:\n",
    "    with open(f) as fopen:\n",
    "        for l in tqdm(fopen):\n",
    "            try:\n",
    "                data = json.loads(l) + '</s>'\n",
    "                partitioned = partition(data)\n",
    "                for p in partitioned:\n",
    "                    data = {\n",
    "                        'text': p,\n",
    "                    }\n",
    "                    a.write(f'{json.dumps(data)}\\n')\n",
    "                    a.flush()\n",
    "            except:\n",
    "                pass"
   ]
  },
  {
   "cell_type": "code",
   "execution_count": 14,
   "id": "d351d224",
   "metadata": {},
   "outputs": [
    {
     "name": "stderr",
     "output_type": "stream",
     "text": [
      "54712it [00:01, 47260.12it/s]\n",
      "4577it [00:00, 11807.25it/s]\n"
     ]
    }
   ],
   "source": [
    "for f in language_related:\n",
    "    with open(f) as fopen:\n",
    "        for l in tqdm(fopen):\n",
    "            try:\n",
    "                data = json.loads(l) + '</s>'\n",
    "                partitioned = partition(data)\n",
    "                for p in partitioned:\n",
    "                    data = {\n",
    "                        'text': p,\n",
    "                    }\n",
    "                    a.write(f'{json.dumps(data)}\\n')\n",
    "                    a.flush()\n",
    "            except:\n",
    "                pass"
   ]
  },
  {
   "cell_type": "code",
   "execution_count": 15,
   "id": "59bd54b4",
   "metadata": {},
   "outputs": [
    {
     "name": "stderr",
     "output_type": "stream",
     "text": [
      "140932it [00:14, 9953.31it/s] \n",
      "1359it [00:00, 2955.94it/s]\n",
      "1687it [00:07, 211.23it/s]\n",
      "10889it [00:11, 976.89it/s]\n",
      "1712it [00:00, 5423.87it/s]\n"
     ]
    }
   ],
   "source": [
    "for f in gov_related:\n",
    "    with open(f) as fopen:\n",
    "        for l in tqdm(fopen):\n",
    "            try:\n",
    "                data = json.loads(l) + '</s>'\n",
    "                partitioned = partition(data)\n",
    "                for p in partitioned:\n",
    "                    data = {\n",
    "                        'text': p,\n",
    "                    }\n",
    "                    a.write(f'{json.dumps(data)}\\n')\n",
    "                    a.flush()\n",
    "            except:\n",
    "                pass"
   ]
  },
  {
   "cell_type": "code",
   "execution_count": 16,
   "id": "45a17bf6",
   "metadata": {},
   "outputs": [],
   "source": [
    "rejected = [\n",
    "    'markah untuk setiap satu',\n",
    "    'soalan mesti dijawab dalam',\n",
    "    '25 markah',\n",
    "    '50 markah'\n",
    "]"
   ]
  },
  {
   "cell_type": "code",
   "execution_count": 17,
   "id": "59bf4fbf",
   "metadata": {},
   "outputs": [
    {
     "name": "stderr",
     "output_type": "stream",
     "text": [
      "787it [00:04, 159.85it/s]\n",
      "189419it [02:04, 1517.06it/s]\n"
     ]
    }
   ],
   "source": [
    "for f in research_papers:\n",
    "    with open(f) as fopen:\n",
    "        for l in tqdm(fopen):\n",
    "            try:\n",
    "                data = json.loads(l) + '</s>'\n",
    "                    \n",
    "                data_lower = data.lower()\n",
    "                if any([r in data_lower for r in rejected]):\n",
    "                    continue\n",
    "                    \n",
    "                partitioned = partition(data)\n",
    "                for p in partitioned:\n",
    "                    data = {\n",
    "                        'text': p,\n",
    "                    }\n",
    "                    a.write(f'{json.dumps(data)}\\n')\n",
    "                    a.flush()\n",
    "            except:\n",
    "                pass"
   ]
  },
  {
   "cell_type": "code",
   "execution_count": 18,
   "id": "4d99e2a0",
   "metadata": {},
   "outputs": [
    {
     "name": "stderr",
     "output_type": "stream",
     "text": [
      "640it [00:00, 10235.12it/s]\n",
      "1733it [00:00, 12452.79it/s]\n",
      "33730it [00:01, 26028.25it/s]\n",
      "87it [00:00, 12543.55it/s]\n",
      "9672it [00:00, 13541.05it/s]\n",
      "4425it [00:00, 19076.58it/s]\n",
      "3645it [00:00, 11202.13it/s]\n",
      "176it [00:00, 7176.44it/s]\n",
      "1427it [00:00, 8216.00it/s]\n",
      "11678it [00:01, 10036.40it/s]\n",
      "12326it [00:01, 9879.15it/s] \n",
      "24482it [00:01, 14581.68it/s]\n",
      "947it [00:00, 6445.74it/s]\n",
      "512it [00:00, 11186.73it/s]\n",
      "3506it [00:00, 9301.19it/s]\n",
      "1459it [00:00, 10234.12it/s]\n",
      "6285it [00:00, 15095.81it/s]\n",
      "53158it [00:04, 11896.86it/s]\n",
      "24411it [00:02, 9918.45it/s] \n",
      "1932it [00:00, 10091.65it/s]\n",
      "10229it [00:00, 22188.65it/s]\n",
      "6976it [00:01, 4382.20it/s]\n",
      "1160it [00:00, 12023.23it/s]\n",
      "937it [00:00, 10628.48it/s]\n",
      "16169it [00:01, 12893.26it/s]\n",
      "12914it [00:01, 12067.70it/s]\n",
      "1647it [00:00, 27157.04it/s]\n",
      "19992it [00:01, 14379.31it/s]\n",
      "5747it [00:00, 17230.11it/s]\n",
      "16605209it [04:20, 63641.44it/s]\n",
      "3888it [00:00, 50314.26it/s]\n",
      "6848it [00:00, 13187.14it/s]\n",
      "13145it [00:01, 12602.36it/s]\n",
      "8447it [00:00, 10305.86it/s]\n",
      "1216it [00:00, 6781.07it/s]\n",
      "11076it [00:00, 18174.70it/s]\n",
      "8200it [00:00, 19189.26it/s]\n",
      "16443it [00:01, 13438.01it/s]\n",
      "13105it [00:00, 14640.79it/s]\n",
      "7226it [00:00, 18081.12it/s]\n",
      "532it [00:00, 11243.54it/s]\n",
      "4921it [00:00, 14576.42it/s]\n",
      "6751it [00:00, 11246.57it/s]\n",
      "1884790it [00:29, 63884.40it/s]\n",
      "17918it [00:00, 20812.87it/s]\n",
      "1523it [00:00, 6645.02it/s]\n",
      "3442it [00:00, 18991.53it/s]\n",
      "10565it [00:01, 9639.36it/s]\n",
      "1473823it [01:08, 21364.56it/s]\n",
      "7106it [00:00, 14855.29it/s]\n",
      "49it [00:00, 12476.98it/s]\n",
      "9221it [00:00, 13042.52it/s]\n",
      "1006it [00:00, 7177.41it/s]\n",
      "5798716it [01:42, 56757.71it/s]\n",
      "6418it [00:00, 19864.58it/s]\n",
      "2368it [00:00, 17310.00it/s]\n",
      "4702it [00:00, 12241.35it/s]\n",
      "2839348it [03:13, 14686.08it/s]\n",
      "9359it [00:00, 13769.72it/s]\n",
      "10483it [00:01, 7613.80it/s]\n",
      "5714it [00:39, 146.28it/s]\n",
      "14158it [00:01, 11845.64it/s]\n",
      "1092497it [00:14, 76570.91it/s]\n",
      "1245it [00:00, 13191.40it/s]\n",
      "22818it [00:01, 21529.02it/s]\n",
      "1138it [00:00, 8235.53it/s]\n",
      "1045it [00:00, 12985.77it/s]\n",
      "230208it [00:06, 34400.03it/s]\n",
      "22542it [00:01, 11551.28it/s]\n",
      "51302it [00:03, 16530.27it/s]\n",
      "286it [00:00, 11941.14it/s]\n",
      "3071it [00:00, 28585.55it/s]\n",
      "8504it [00:00, 11898.13it/s]\n",
      "629779it [00:13, 46538.01it/s]\n",
      "209173it [00:28, 7382.50it/s] \n",
      "753it [00:00, 13538.07it/s]\n",
      "3578it [00:00, 18588.08it/s]\n",
      "4591it [00:00, 11113.46it/s]\n",
      "25040it [00:01, 19585.12it/s]\n",
      "644it [00:00, 11013.56it/s]\n",
      "597it [00:00, 8931.98it/s]\n",
      "711it [00:00, 13485.04it/s]\n",
      "5407it [00:00, 15362.12it/s]\n",
      "3834it [00:00, 13103.09it/s]\n",
      "25073it [00:01, 15686.60it/s]\n",
      "11314it [00:00, 42633.30it/s]\n",
      "15277it [00:00, 15467.91it/s]\n"
     ]
    }
   ],
   "source": [
    "for f in online_articles:\n",
    "    with open(f) as fopen:\n",
    "        for l in tqdm(fopen):\n",
    "            try:\n",
    "                data = json.loads(l) + '</s>'\n",
    "                partitioned = partition(data)\n",
    "                for p in partitioned:\n",
    "                    data = {\n",
    "                        'text': p,\n",
    "                    }\n",
    "                    a.write(f'{json.dumps(data)}\\n')\n",
    "                    a.flush()\n",
    "            except:\n",
    "                pass"
   ]
  },
  {
   "cell_type": "code",
   "execution_count": 19,
   "id": "59ed8dfc",
   "metadata": {
    "scrolled": true
   },
   "outputs": [],
   "source": [
    "# for f in common_crawl:\n",
    "#     with open(f) as fopen:\n",
    "#         for l in tqdm(fopen):\n",
    "#             try:\n",
    "#                 data = json.loads(l) + '</s>'\n",
    "#                 partitioned = partition(data)\n",
    "#                 for p in partitioned:\n",
    "#                     data = {\n",
    "#                         'text': p,\n",
    "#                     }\n",
    "#                     a.write(f'{json.dumps(data)}\\n')\n",
    "#                     a.flush()\n",
    "#             except:\n",
    "#                 pass"
   ]
  },
  {
   "cell_type": "code",
   "execution_count": 20,
   "id": "eec8e085",
   "metadata": {},
   "outputs": [],
   "source": [
    "# for f in social_media:\n",
    "#     with open(f) as fopen:\n",
    "#         for l in tqdm(fopen):\n",
    "#             try:\n",
    "#                 data = json.loads(l) + '</s>'\n",
    "#                 partitioned = partition(data)\n",
    "#                 for p in partitioned:\n",
    "#                     data = {\n",
    "#                         'text': p,\n",
    "#                     }\n",
    "#                     a.write(f'{json.dumps(data)}\\n')\n",
    "#                     a.flush()\n",
    "#             except:\n",
    "#                 pass"
   ]
  },
  {
   "cell_type": "code",
   "execution_count": 21,
   "id": "a523d8d8",
   "metadata": {},
   "outputs": [
    {
     "name": "stdout",
     "output_type": "stream",
     "text": [
      "33339118 combine.jsonl\r\n"
     ]
    }
   ],
   "source": [
    "!wc -l combine.jsonl"
   ]
  },
  {
   "cell_type": "code",
   "execution_count": 22,
   "id": "6588c4ea",
   "metadata": {
    "scrolled": true
   },
   "outputs": [
    {
     "name": "stdout",
     "output_type": "stream",
     "text": [
      "-rwxrwxrwx 1 ubuntu ubuntu 29G Aug 21 07:50 combine.jsonl\r\n"
     ]
    }
   ],
   "source": [
    "!ls -lh combine.jsonl"
   ]
  },
  {
   "cell_type": "code",
   "execution_count": 23,
   "id": "ddbed9d3",
   "metadata": {},
   "outputs": [],
   "source": [
    "a.close()"
   ]
  }
 ],
 "metadata": {
  "kernelspec": {
   "display_name": "Python 3 (ipykernel)",
   "language": "python",
   "name": "python3"
  },
  "language_info": {
   "codemirror_mode": {
    "name": "ipython",
    "version": 3
   },
   "file_extension": ".py",
   "mimetype": "text/x-python",
   "name": "python",
   "nbconvert_exporter": "python",
   "pygments_lexer": "ipython3",
   "version": "3.10.12"
  }
 },
 "nbformat": 4,
 "nbformat_minor": 5
}

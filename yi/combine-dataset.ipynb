{
 "cells": [
  {
   "cell_type": "code",
   "execution_count": 1,
   "id": "89ef6d1f",
   "metadata": {},
   "outputs": [],
   "source": [
    "import json\n",
    "import os\n",
    "from glob import glob\n",
    "from tqdm import tqdm"
   ]
  },
  {
   "cell_type": "code",
   "execution_count": 2,
   "id": "deea1adb",
   "metadata": {},
   "outputs": [
    {
     "data": {
      "text/plain": [
       "274"
      ]
     },
     "execution_count": 2,
     "metadata": {},
     "output_type": "execute_result"
    }
   ],
   "source": [
    "files = glob('/home/ubuntu/dedup-text-dataset/*.jsonl')\n",
    "len(files)"
   ]
  },
  {
   "cell_type": "code",
   "execution_count": 3,
   "id": "d928b86a",
   "metadata": {},
   "outputs": [],
   "source": [
    "def partition(text, size = 500):\n",
    "    splitted = text.split()\n",
    "    return [' '.join(splitted[i: i + size]) for i in range(0, len(splitted), size)]"
   ]
  },
  {
   "cell_type": "code",
   "execution_count": 4,
   "id": "2b2d2941",
   "metadata": {},
   "outputs": [],
   "source": [
    "wiki = [\n",
    "    'wikipedia-2023-10-01.jsonl',\n",
    "    'wikipedia-jawi.jsonl',\n",
    "]\n",
    "language_related = [\n",
    "    'dictionary.jsonl',\n",
    "    'dewanbahasa-jdbp.jsonl',\n",
    "    'dialect.jsonl',\n",
    "    'kamusbm.jsonl',\n",
    "]\n",
    "gov_related = [\n",
    "    'hansard.jsonl',\n",
    "    'lom.agc.gov.my.jsonl',\n",
    "    'parlimen-gov.jsonl',\n",
    "    'data.gov.my.jsonl',\n",
    "    'mufti_wilayah_articles.jsonl',\n",
    "    'e-khutbah.jsonl',\n",
    "    'mufti_negeri_sem_artikel.jsonl',\n",
    "    'mufti_perlis_artikel.jsonl',\n",
    "    'mufti_negeri_sem_artikel.jsonl',\n",
    "    'gov.my.jsonl',\n",
    "    'edu.my.jsonl',\n",
    "]\n",
    "research_papers = [\n",
    "    'academia-edu.jsonl',\n",
    "    'eprints.jsonl',\n",
    "]\n",
    "social_media = [\n",
    "    'iium-confession.jsonl',\n",
    "    'b.cari.com.my.jsonl',\n",
    "    'semisupervised-whisper-large-v2.jsonl',\n",
    "    'lowyat.jsonl',\n",
    "    'malay-tweets.jsonl'\n",
    "]\n",
    "common_crawl = [\n",
    "    'common-crawl.jsonl',\n",
    "    'NLLB.jsonl',\n",
    "]\n",
    "buku_teks = [\n",
    "    'buku-teks.jsonl',\n",
    "    'bumigemilang.com.jsonl',\n",
    "    'tcer.my.jsonl',\n",
    "    'mysoalan.com.jsonl'\n",
    "]"
   ]
  },
  {
   "cell_type": "code",
   "execution_count": 5,
   "id": "74e679cb",
   "metadata": {},
   "outputs": [],
   "source": [
    "combine = set(wiki) | set(language_related) | set(gov_related) | set(research_papers) | set(common_crawl) | set(buku_teks)"
   ]
  },
  {
   "cell_type": "code",
   "execution_count": 6,
   "id": "d58d2c75",
   "metadata": {},
   "outputs": [],
   "source": [
    "combine = {os.path.join('/home/ubuntu/dedup-text-dataset', f) for f in combine}"
   ]
  },
  {
   "cell_type": "code",
   "execution_count": 7,
   "id": "012aea9d",
   "metadata": {},
   "outputs": [
    {
     "data": {
      "text/plain": [
       "250"
      ]
     },
     "execution_count": 7,
     "metadata": {},
     "output_type": "execute_result"
    }
   ],
   "source": [
    "online_articles = sorted(list(set(files) - combine))\n",
    "len(online_articles)"
   ]
  },
  {
   "cell_type": "code",
   "execution_count": 8,
   "id": "fc5174b9",
   "metadata": {},
   "outputs": [],
   "source": [
    "online_articles = [x for x in online_articles if 'c4-filtered' not in x and 'the-pile' not in x and 'c.cari.com.my' not in x]"
   ]
  },
  {
   "cell_type": "code",
   "execution_count": 9,
   "id": "6edddc8c",
   "metadata": {},
   "outputs": [
    {
     "data": {
      "text/plain": [
       "247"
      ]
     },
     "execution_count": 9,
     "metadata": {},
     "output_type": "execute_result"
    }
   ],
   "source": [
    "len(online_articles)"
   ]
  },
  {
   "cell_type": "code",
   "execution_count": 10,
   "id": "8990ad98",
   "metadata": {},
   "outputs": [],
   "source": [
    "a = open('combine-lm.jsonl', 'w')"
   ]
  },
  {
   "cell_type": "code",
   "execution_count": 11,
   "id": "f15da06c",
   "metadata": {},
   "outputs": [
    {
     "name": "stderr",
     "output_type": "stream",
     "text": [
      "438316it [00:08, 48880.32it/s]\n",
      "722837it [00:22, 31571.94it/s]\n"
     ]
    }
   ],
   "source": [
    "for f in wiki:\n",
    "    f = os.path.join('/home/ubuntu/dedup-text-dataset', f)\n",
    "    with open(f) as fopen:\n",
    "        for l in tqdm(fopen):\n",
    "            try:\n",
    "                data = '<|startoftext|>' + json.loads(l) + '<|endoftext|>'\n",
    "                partitioned = partition(data)\n",
    "                for p in partitioned:\n",
    "                    data = {\n",
    "                        'text': p,\n",
    "                    }\n",
    "                    a.write(f'{json.dumps(data)}\\n')\n",
    "                    a.flush()\n",
    "            except:\n",
    "                pass"
   ]
  },
  {
   "cell_type": "code",
   "execution_count": 12,
   "id": "f3d740e3",
   "metadata": {},
   "outputs": [
    {
     "name": "stderr",
     "output_type": "stream",
     "text": [
      "54712it [00:01, 50053.36it/s]\n",
      "4577it [00:00, 12211.68it/s]\n",
      "66it [00:00, 54396.55it/s]\n",
      "34192it [00:00, 78282.40it/s]\n"
     ]
    }
   ],
   "source": [
    "for f in language_related:\n",
    "    f = os.path.join('/home/ubuntu/dedup-text-dataset', f)\n",
    "    with open(f) as fopen:\n",
    "        for l in tqdm(fopen):\n",
    "            try:\n",
    "                data = '<|startoftext|>' + json.loads(l) + '<|endoftext|>'\n",
    "                partitioned = partition(data)\n",
    "                for p in partitioned:\n",
    "                    data = {\n",
    "                        'text': p,\n",
    "                    }\n",
    "                    a.write(f'{json.dumps(data)}\\n')\n",
    "                    a.flush()\n",
    "            except:\n",
    "                pass"
   ]
  },
  {
   "cell_type": "code",
   "execution_count": 13,
   "id": "6da3e09d",
   "metadata": {},
   "outputs": [
    {
     "name": "stderr",
     "output_type": "stream",
     "text": [
      "183it [00:00, 293.82it/s]\n",
      "16120it [00:15, 1011.57it/s]\n",
      "3625it [00:00, 5186.19it/s]\n",
      "900it [00:00, 4377.42it/s]\n"
     ]
    }
   ],
   "source": [
    "for f in buku_teks:\n",
    "    f = os.path.join('/home/ubuntu/dedup-text-dataset', f)\n",
    "    with open(f) as fopen:\n",
    "        for l in tqdm(fopen):\n",
    "            try:\n",
    "                data = '<|startoftext|>' + json.loads(l) + '<|endoftext|>'\n",
    "                partitioned = partition(data)\n",
    "                for p in partitioned:\n",
    "                    data = {\n",
    "                        'text': p,\n",
    "                    }\n",
    "                    a.write(f'{json.dumps(data)}\\n')\n",
    "                    a.flush()\n",
    "            except:\n",
    "                pass\n"
   ]
  },
  {
   "cell_type": "code",
   "execution_count": 14,
   "id": "fdd141ed",
   "metadata": {},
   "outputs": [
    {
     "name": "stderr",
     "output_type": "stream",
     "text": [
      "140932it [00:11, 12510.02it/s]\n",
      "1359it [00:00, 3068.13it/s]\n",
      "1687it [00:07, 232.20it/s]\n",
      "10889it [00:15, 685.90it/s]\n",
      "1712it [00:03, 448.50it/s]\n",
      "809it [00:00, 2604.22it/s]\n",
      "112it [00:00, 19338.14it/s]\n",
      "144it [00:00, 16342.33it/s]\n",
      "112it [00:00, 19586.48it/s]\n",
      "30055it [00:19, 1574.01it/s]\n",
      "21590it [00:10, 1983.70it/s]\n"
     ]
    }
   ],
   "source": [
    "for f in gov_related:\n",
    "    f = os.path.join('/home/ubuntu/dedup-text-dataset', f)\n",
    "    with open(f) as fopen:\n",
    "        for l in tqdm(fopen):\n",
    "            try:\n",
    "                data = '<|startoftext|>' + json.loads(l) + '<|endoftext|>'\n",
    "                partitioned = partition(data)\n",
    "                for p in partitioned:\n",
    "                    data = {\n",
    "                        'text': p,\n",
    "                    }\n",
    "                    a.write(f'{json.dumps(data)}\\n')\n",
    "                    a.flush()\n",
    "            except:\n",
    "                pass"
   ]
  },
  {
   "cell_type": "code",
   "execution_count": 15,
   "id": "364397ef",
   "metadata": {},
   "outputs": [],
   "source": [
    "rejected = [\n",
    "    'markah untuk setiap satu',\n",
    "    'soalan mesti dijawab dalam',\n",
    "    '25 markah',\n",
    "    '50 markah'\n",
    "]"
   ]
  },
  {
   "cell_type": "code",
   "execution_count": 16,
   "id": "3395c50f",
   "metadata": {},
   "outputs": [
    {
     "name": "stderr",
     "output_type": "stream",
     "text": [
      "787it [00:04, 169.87it/s]\n",
      "189419it [02:21, 1334.04it/s]\n"
     ]
    }
   ],
   "source": [
    "for f in research_papers:\n",
    "    f = os.path.join('/home/ubuntu/dedup-text-dataset', f)\n",
    "    with open(f) as fopen:\n",
    "        for l in tqdm(fopen):\n",
    "            try:\n",
    "                data = '<|startoftext|>' + json.loads(l) + '<|endoftext|>'\n",
    "                    \n",
    "                data_lower = data.lower()\n",
    "                if any([r in data_lower for r in rejected]):\n",
    "                    continue\n",
    "                    \n",
    "                partitioned = partition(data)\n",
    "                for p in partitioned:\n",
    "                    data = {\n",
    "                        'text': p,\n",
    "                    }\n",
    "                    a.write(f'{json.dumps(data)}\\n')\n",
    "                    a.flush()\n",
    "            except:\n",
    "                pass"
   ]
  },
  {
   "cell_type": "code",
   "execution_count": 17,
   "id": "0fe9c6c2",
   "metadata": {
    "scrolled": true
   },
   "outputs": [
    {
     "name": "stderr",
     "output_type": "stream",
     "text": [
      "14954it [00:06, 2370.49it/s]\n",
      "752it [00:00, 5737.05it/s]\n",
      "172it [00:00, 24924.69it/s]\n",
      "20763it [00:01, 16643.85it/s]\n",
      "640it [00:00, 10173.17it/s]\n",
      "74it [00:00, 3735.94it/s]\n",
      "10604it [00:00, 18585.41it/s]\n",
      "1733it [00:00, 11643.79it/s]\n",
      "33730it [00:01, 29488.78it/s]\n",
      "144it [00:00, 9458.61it/s]\n",
      "359it [00:00, 8740.57it/s]\n",
      "87it [00:00, 12499.30it/s]\n",
      "47it [00:00, 9413.70it/s]\n",
      "1263it [00:00, 7074.22it/s]\n",
      "9672it [00:00, 14848.22it/s]\n",
      "5400it [00:00, 17793.85it/s]\n",
      "4307116it [01:21, 52995.41it/s]\n",
      "4425it [00:00, 21299.83it/s]\n",
      "269it [00:00, 10125.90it/s]\n",
      "3645it [00:00, 11922.54it/s]\n",
      "1589it [00:00, 8900.09it/s]\n",
      "385it [00:00, 10867.46it/s]\n",
      "17004it [00:02, 7880.82it/s]\n",
      "176it [00:00, 7216.92it/s]\n",
      "233it [00:00, 10621.03it/s]\n",
      "48it [00:00, 9942.54it/s]\n",
      "1427it [00:00, 8061.99it/s]\n",
      "341it [00:00, 4500.94it/s]\n",
      "1546it [00:00, 8547.82it/s]\n",
      "46it [00:00, 13831.67it/s]\n",
      "140it [00:00, 17033.20it/s]\n",
      "11678it [00:01, 10427.12it/s]\n",
      "15257673it [04:04, 62483.18it/s]\n",
      "12326it [00:00, 12771.26it/s]\n",
      "24482it [00:01, 14587.56it/s]\n",
      "947it [00:00, 6222.61it/s]\n",
      "39678991it [08:27, 78260.93it/s]\n",
      "62863it [00:48, 1309.43it/s]\n",
      "512it [00:00, 11666.60it/s]\n",
      "800it [00:00, 27718.79it/s]\n",
      "3506it [00:00, 9792.30it/s]\n",
      "1459it [00:00, 10669.11it/s]\n",
      "6285it [00:00, 17057.69it/s]\n",
      "53158it [00:02, 25818.83it/s]\n",
      "95it [00:00, 2927.74it/s]\n",
      "788it [00:00, 11214.68it/s]\n",
      "24411it [00:02, 9684.52it/s]\n",
      "158it [00:00, 445.55it/s]\n",
      "1932it [00:00, 9998.43it/s]\n",
      "151it [00:00, 8845.16it/s]\n",
      "12000it [00:00, 58453.33it/s]\n",
      "37it [00:00, 8137.45it/s]\n",
      "10229it [00:00, 22909.78it/s]\n",
      "191248it [00:02, 92206.17it/s]\n",
      "6976it [00:09, 748.84it/s] \n",
      "1160it [00:00, 12722.64it/s]\n",
      "1132it [00:00, 1219.08it/s]\n",
      "937it [00:00, 10904.48it/s]\n",
      "8457it [00:04, 1840.25it/s] \n",
      "16169it [00:04, 3292.05it/s]\n",
      "12914it [00:05, 2385.52it/s]\n",
      "1647it [00:00, 31698.63it/s]\n",
      "12it [00:00, 2430.66it/s]\n",
      "19992it [00:02, 9759.24it/s] \n",
      "56661it [00:03, 15927.04it/s]\n",
      "5747it [00:00, 18704.97it/s]\n",
      "7072it [00:04, 1667.55it/s]\n",
      "1252it [00:03, 360.05it/s]\n",
      "45326it [00:02, 16238.25it/s]\n",
      "16605209it [04:36, 60101.11it/s]\n",
      "3888it [00:00, 49835.29it/s]\n",
      "223it [00:00, 9786.65it/s]\n",
      "36468it [00:05, 6654.33it/s]\n",
      "6848it [00:00, 13810.21it/s]\n",
      "139it [00:00, 14699.05it/s]\n",
      "13145it [00:00, 13261.58it/s]\n",
      "13it [00:00, 5322.20it/s]\n",
      "42it [00:00, 15841.80it/s]\n",
      "28180it [00:02, 10293.60it/s]\n",
      "3370it [00:00, 10722.70it/s]\n",
      "27178it [00:01, 16168.20it/s]\n",
      "8447it [00:00, 10716.42it/s]\n",
      "473it [00:00, 18301.88it/s]\n",
      "3502it [00:00, 6844.59it/s]\n",
      "70it [00:00, 16621.45it/s]\n",
      "1216it [00:00, 6951.01it/s]\n",
      "11076it [00:00, 20257.28it/s]\n",
      "391it [00:00, 10664.34it/s]\n",
      "22581it [00:01, 18915.57it/s]\n",
      "65it [00:00, 4575.63it/s]\n",
      "791574it [00:19, 41420.96it/s]\n",
      "8200it [00:00, 21084.33it/s]\n",
      "1938it [00:00, 21159.31it/s]\n",
      "8732it [00:00, 15433.13it/s]\n",
      "16443it [00:01, 14184.43it/s]\n",
      "58it [00:00, 9630.25it/s]\n",
      "100it [00:00, 9402.79it/s]\n",
      "2530it [00:00, 9149.85it/s]\n",
      "13105it [00:00, 15873.09it/s]\n",
      "7226it [00:00, 20211.25it/s]\n",
      "18860it [00:01, 15342.64it/s]\n",
      "11236it [00:00, 17953.09it/s]\n",
      "5103it [00:00, 11305.44it/s]\n",
      "51691it [00:02, 20676.84it/s]\n",
      "532it [00:00, 11738.74it/s]\n",
      "4921it [00:00, 15625.53it/s]\n",
      "3948it [00:00, 10076.92it/s]\n",
      "28986it [00:01, 15865.69it/s]\n",
      "17097584it [05:06, 55771.28it/s]\n",
      "1627it [00:00, 38770.84it/s]\n",
      "6751it [00:00, 10640.99it/s]\n",
      "638it [00:00, 10815.61it/s]\n",
      "1884790it [00:32, 58647.06it/s]\n",
      "17918it [00:00, 23365.64it/s]\n",
      "1523it [00:00, 6441.58it/s]\n",
      "3442it [00:00, 19542.40it/s]\n",
      "23826it [00:01, 12480.30it/s]\n",
      "8593it [00:00, 100545.82it/s]\n",
      "3365it [00:00, 5675.40it/s]\n",
      "11987371it [02:12, 90183.86it/s] \n",
      "10565it [00:01, 9551.93it/s]\n",
      "130494it [00:06, 18862.37it/s]\n",
      "45577it [00:04, 10053.64it/s]\n",
      "1473823it [01:11, 20739.86it/s]\n",
      "43it [00:00, 10827.58it/s]\n",
      "7106it [00:00, 16327.87it/s]\n",
      "49it [00:00, 56291.67it/s]\n",
      "40it [00:00, 14587.61it/s]\n",
      "871it [00:00, 2854.83it/s]\n",
      "16144it [00:01, 16016.97it/s]\n",
      "28201it [00:03, 7362.60it/s]\n",
      "13202it [00:00, 20608.23it/s]\n",
      "9221it [00:00, 13691.26it/s]\n",
      "572it [00:00, 17126.82it/s]\n",
      "68it [00:00, 25408.70it/s]\n",
      "13529it [00:00, 18855.68it/s]\n",
      "1006it [00:00, 6811.17it/s]\n",
      "22491it [00:00, 22608.14it/s]\n",
      "5798716it [01:52, 51505.19it/s]\n",
      "6418it [00:00, 14901.87it/s]\n",
      "523it [00:00, 14664.71it/s]\n",
      "66212it [00:06, 9931.66it/s] \n",
      "2368it [00:00, 19016.58it/s]\n",
      "17893it [00:01, 14046.80it/s]\n",
      "5561it [00:00, 13032.99it/s]\n",
      "4702it [00:00, 13502.54it/s]\n",
      "2839348it [03:30, 13482.17it/s]\n",
      "3664it [00:00, 14900.78it/s]\n",
      "9359it [00:00, 14726.95it/s]\n",
      "1143it [00:00, 8183.69it/s]\n",
      "32085it [00:02, 15454.39it/s]\n",
      "9865it [00:00, 20994.30it/s]\n",
      "70it [00:00, 10824.01it/s]\n",
      "3819it [00:00, 10220.11it/s]\n",
      "6641it [00:04, 1613.93it/s]\n",
      "440752it [00:38, 11417.55it/s]\n",
      "2132it [00:00, 30112.56it/s]\n",
      "89it [00:00, 47067.59it/s]\n",
      "10483it [00:01, 7620.20it/s]\n",
      "20320it [00:01, 15950.11it/s]\n",
      "5714it [00:53, 107.25it/s]\n",
      "367it [00:00, 922.15it/s] \n",
      "6204it [00:00, 11102.20it/s]\n",
      "14158it [00:01, 12823.75it/s]\n",
      "1619it [00:00, 96379.04it/s]\n",
      "2877it [00:00, 7738.64it/s]\n",
      "298it [00:00, 4077.84it/s]\n",
      "240it [00:00, 5192.95it/s]\n",
      "276it [00:00, 10461.22it/s]\n",
      "153it [00:00, 8617.51it/s]\n",
      "1092497it [00:19, 54835.74it/s]\n",
      "1245it [00:00, 12728.17it/s]\n",
      "348it [00:00, 350.74it/s]\n",
      "547it [00:00, 4580.01it/s]\n",
      "726it [00:00, 8929.31it/s]\n",
      "36449it [00:03, 11069.51it/s]\n",
      "1140it [00:00, 4417.15it/s]\n",
      "22818it [00:01, 21991.23it/s]\n",
      "42143it [00:01, 26620.00it/s]\n",
      "1138it [00:00, 8409.98it/s]\n",
      "12172it [00:00, 20163.64it/s]\n",
      "1045it [00:00, 14221.12it/s]\n",
      "230208it [00:04, 52932.60it/s]\n",
      "22542it [00:01, 12000.86it/s]\n",
      "446589it [00:26, 16655.23it/s]\n",
      "48401it [00:02, 23644.77it/s]\n",
      "31050it [00:02, 15055.61it/s]\n",
      "76290it [00:22, 3441.76it/s]\n",
      "2it [00:00, 1575.03it/s]\n",
      "6400it [00:00, 12230.17it/s]\n",
      "297it [00:00, 13139.41it/s]\n",
      "51302it [00:02, 18118.09it/s]\n",
      "286it [00:00, 11685.57it/s]\n",
      "3071it [00:00, 30703.95it/s]\n",
      "13101it [00:00, 20741.16it/s]\n",
      "1171628it [01:07, 17273.93it/s]\n",
      "8504it [00:00, 11989.72it/s]\n",
      "629779it [00:32, 19575.03it/s]\n",
      "209173it [00:28, 7346.54it/s] \n",
      "216it [00:00, 11382.24it/s]\n",
      "1074it [00:00, 15920.31it/s]\n",
      "1578it [00:00, 95315.48it/s]\n",
      "984it [00:00, 15690.43it/s]\n",
      "753it [00:00, 13290.37it/s]\n",
      "101it [00:00, 4504.20it/s]\n",
      "91it [00:00, 16508.01it/s]\n",
      "3578it [00:00, 19006.54it/s]\n",
      "4122it [00:00, 19164.03it/s]\n",
      "114it [00:00, 3992.97it/s]\n",
      "24it [00:00, 8147.58it/s]\n",
      "1333it [00:00, 12488.29it/s]\n",
      "64241it [00:09, 6954.87it/s] \n",
      "416it [00:00, 4832.84it/s]\n",
      "4591it [00:00, 11158.33it/s]\n",
      "300it [00:00, 10655.36it/s]\n",
      "48it [00:00, 10673.66it/s]\n",
      "25040it [00:01, 21872.54it/s]\n",
      "220it [00:00, 4126.07it/s]\n",
      "644it [00:00, 11232.30it/s]\n",
      "371844it [00:24, 15041.47it/s]\n",
      "404it [00:00, 4405.19it/s]\n",
      "373694it [00:33, 11288.23it/s]\n",
      "597it [00:00, 9029.02it/s]\n",
      "281536it [00:06, 45651.47it/s]\n",
      "11439it [00:00, 11902.54it/s]\n",
      "168it [00:00, 8459.20it/s]\n",
      "839it [00:00, 7026.94it/s]\n",
      "5550it [00:00, 42992.68it/s]\n",
      "3626it [00:00, 16859.81it/s]\n",
      "772it [00:00, 6941.46it/s]\n",
      "711it [00:00, 13058.70it/s]\n",
      "5407it [00:00, 15512.25it/s]\n",
      "82470it [00:12, 6622.31it/s] \n",
      "13321it [00:00, 15027.73it/s]\n",
      "7363it [00:01, 5104.33it/s]\n",
      "3834it [00:00, 13568.51it/s]\n",
      "65it [00:00, 6502.64it/s]\n",
      "25073it [00:01, 16369.48it/s]\n",
      "290it [00:00, 8394.86it/s]\n",
      "11314it [00:00, 41088.44it/s]\n",
      "942it [00:00, 17159.61it/s]\n",
      "56459it [00:09, 5923.12it/s]\n",
      "24096it [00:00, 266140.92it/s]\n",
      "15277it [00:00, 17439.79it/s]\n",
      "84it [00:00, 9656.35it/s]\n",
      "327it [00:00, 8583.59it/s]\n",
      "402it [00:00, 940.42it/s] \n"
     ]
    }
   ],
   "source": [
    "for f in online_articles:\n",
    "    with open(f) as fopen:\n",
    "        for l in tqdm(fopen):\n",
    "            try:\n",
    "                data = '<|startoftext|>' + json.loads(l) + '<|endoftext|>'\n",
    "                partitioned = partition(data)\n",
    "                for p in partitioned:\n",
    "                    data = {\n",
    "                        'text': p,\n",
    "                    }\n",
    "                    a.write(f'{json.dumps(data)}\\n')\n",
    "                    a.flush()\n",
    "            except:\n",
    "                pass"
   ]
  }
 ],
 "metadata": {
  "kernelspec": {
   "display_name": "Python 3 (ipykernel)",
   "language": "python",
   "name": "python3"
  },
  "language_info": {
   "codemirror_mode": {
    "name": "ipython",
    "version": 3
   },
   "file_extension": ".py",
   "mimetype": "text/x-python",
   "name": "python",
   "nbconvert_exporter": "python",
   "pygments_lexer": "ipython3",
   "version": "3.10.12"
  }
 },
 "nbformat": 4,
 "nbformat_minor": 5
}

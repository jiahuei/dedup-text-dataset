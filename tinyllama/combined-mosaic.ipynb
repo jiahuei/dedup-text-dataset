{
 "cells": [
  {
   "cell_type": "code",
   "execution_count": 5,
   "id": "dc79c14a",
   "metadata": {},
   "outputs": [],
   "source": [
    "from glob import glob\n",
    "from streaming import MDSWriter\n",
    "from streaming import StreamingDataset\n",
    "from transformers import default_data_collator, DataCollatorForLanguageModeling\n",
    "from tqdm import tqdm\n",
    "import numpy as np"
   ]
  },
  {
   "cell_type": "code",
   "execution_count": 6,
   "id": "4eb7c147",
   "metadata": {},
   "outputs": [
    {
     "data": {
      "text/plain": [
       "['tokenized_indexes/tokenized-0',\n",
       " 'tokenized_indexes/tokenized-1',\n",
       " 'tokenized_indexes/tokenized-2',\n",
       " 'tokenized_indexes/tokenized-3',\n",
       " 'tokenized_indexes/tokenized-4',\n",
       " 'tokenized_indexes/tokenized-5',\n",
       " 'tokenized_indexes/tokenized-6',\n",
       " 'tokenized_indexes/tokenized-7',\n",
       " 'tokenized_indexes/tokenized-8',\n",
       " 'tokenized_indexes/tokenized-9',\n",
       " 'tokenized_indexes/tokenized-10',\n",
       " 'tokenized_indexes/tokenized-11',\n",
       " 'tokenized_indexes/tokenized-12',\n",
       " 'tokenized_indexes/tokenized-13',\n",
       " 'tokenized_indexes/tokenized-14',\n",
       " 'tokenized_indexes/tokenized-15',\n",
       " 'tokenized_indexes/tokenized-16',\n",
       " 'tokenized_indexes/tokenized-17',\n",
       " 'tokenized_indexes/tokenized-18',\n",
       " 'tokenized_indexes/tokenized-19',\n",
       " 'tokenized_indexes/tokenized-20',\n",
       " 'tokenized_indexes/tokenized-21',\n",
       " 'tokenized_indexes/tokenized-22',\n",
       " 'tokenized_indexes/tokenized-23',\n",
       " 'tokenized_indexes/tokenized-24',\n",
       " 'tokenized_indexes/tokenized-25',\n",
       " 'tokenized_indexes/tokenized-26',\n",
       " 'tokenized_indexes/tokenized-27',\n",
       " 'tokenized_indexes/tokenized-28',\n",
       " 'tokenized_indexes/tokenized-29',\n",
       " 'tokenized_indexes/tokenized-30',\n",
       " 'tokenized_indexes/tokenized-31',\n",
       " 'tokenized_indexes/tokenized-32',\n",
       " 'tokenized_indexes/tokenized-33',\n",
       " 'tokenized_indexes/tokenized-34']"
      ]
     },
     "execution_count": 6,
     "metadata": {},
     "output_type": "execute_result"
    }
   ],
   "source": [
    "folders = sorted(glob('tokenized_indexes/tokenized-*'), key = lambda x: int(x.split('-')[-1]))\n",
    "folders"
   ]
  },
  {
   "cell_type": "code",
   "execution_count": 7,
   "id": "1e4091ed",
   "metadata": {},
   "outputs": [],
   "source": [
    "from streaming.base.format.mds.encodings import Encoding, _encodings\n",
    "\n",
    "class UInt16(Encoding):\n",
    "    def encode(self, obj) -> bytes:\n",
    "        return obj.tobytes()\n",
    "\n",
    "    def decode(self, data: bytes):\n",
    "        return np.frombuffer(data, np.uint16)\n",
    "\n",
    "_encodings['uint16'] = UInt16"
   ]
  },
  {
   "cell_type": "code",
   "execution_count": 8,
   "id": "21a1978b",
   "metadata": {},
   "outputs": [],
   "source": [
    "columns = {\n",
    "    'input_ids': 'uint16',\n",
    "}\n",
    "\n",
    "compression = 'zstd'\n",
    "hashes = 'sha1', 'xxh64'"
   ]
  },
  {
   "cell_type": "code",
   "execution_count": 7,
   "id": "6b30d377",
   "metadata": {},
   "outputs": [
    {
     "name": "stderr",
     "output_type": "stream",
     "text": [
      "100%|██████████| 906379/906379 [01:42<00:00, 8804.31it/s] \n",
      "100%|██████████| 177681/177681 [00:43<00:00, 4111.60it/s] \n",
      "100%|██████████| 187986/187986 [00:26<00:00, 6983.59it/s] \n",
      "100%|██████████| 187877/187877 [00:42<00:00, 4466.45it/s] \n",
      "100%|██████████| 152901/152901 [00:22<00:00, 6818.62it/s] \n",
      "100%|██████████| 121434/121434 [00:20<00:00, 5980.49it/s]\n",
      "100%|██████████| 120487/120487 [00:22<00:00, 5261.07it/s]\n",
      "100%|██████████| 104511/104511 [00:19<00:00, 5275.63it/s]\n",
      "100%|██████████| 77188/77188 [00:15<00:00, 5006.33it/s]\n",
      "100%|██████████| 77607/77607 [00:14<00:00, 5537.91it/s]\n",
      "100%|██████████| 77579/77579 [00:13<00:00, 5860.13it/s]\n",
      "100%|██████████| 77750/77750 [00:16<00:00, 4598.58it/s] \n",
      "100%|██████████| 77709/77709 [00:12<00:00, 6174.10it/s]\n",
      "100%|██████████| 77729/77729 [00:11<00:00, 6838.79it/s] \n",
      "100%|██████████| 77219/77219 [00:12<00:00, 6000.09it/s]\n",
      "100%|██████████| 517771/517771 [01:14<00:00, 6932.16it/s] \n",
      "100%|██████████| 94853/94853 [00:19<00:00, 4750.32it/s] \n",
      "100%|██████████| 94371/94371 [00:21<00:00, 4486.31it/s]\n",
      "100%|██████████| 113998/113998 [00:27<00:00, 4072.28it/s] \n",
      "100%|██████████| 193322/193322 [00:37<00:00, 5138.40it/s] \n",
      "100%|██████████| 118780/118780 [00:19<00:00, 6142.08it/s] \n",
      "100%|██████████| 136389/136389 [00:24<00:00, 5509.07it/s] \n",
      "100%|██████████| 153150/153150 [00:28<00:00, 5304.90it/s] \n",
      "100%|██████████| 63885/63885 [00:12<00:00, 5301.74it/s]\n",
      "100%|██████████| 46304/46304 [00:07<00:00, 5928.09it/s] \n",
      "100%|██████████| 284300/284300 [00:41<00:00, 6802.35it/s] \n",
      "100%|██████████| 116889/116889 [00:27<00:00, 4175.59it/s] \n",
      "100%|██████████| 850530/850530 [02:21<00:00, 6000.71it/s] \n",
      "100%|██████████| 720765/720765 [02:04<00:00, 5810.52it/s] \n",
      "100%|██████████| 386462/386462 [01:06<00:00, 5834.45it/s] \n",
      "100%|██████████| 1276821/1276821 [03:38<00:00, 5850.92it/s] \n",
      "100%|██████████| 1247824/1247824 [03:44<00:00, 5567.93it/s]\n",
      "100%|██████████| 1238553/1238553 [03:41<00:00, 5589.44it/s] \n",
      "100%|██████████| 1246907/1246907 [03:49<00:00, 5441.15it/s]\n",
      "100%|██████████| 736314/736314 [02:19<00:00, 5277.69it/s] \n"
     ]
    }
   ],
   "source": [
    "with MDSWriter(out='tokenized', columns=columns, compression=compression, hashes=hashes) as out:\n",
    "    for f in folders:\n",
    "        try:\n",
    "            dataset = StreamingDataset(local=f)\n",
    "            for i in tqdm(range(len(dataset))):\n",
    "                out.write(dataset[i])\n",
    "        except Exception as e:\n",
    "            print(e)\n",
    "            pass"
   ]
  },
  {
   "cell_type": "code",
   "execution_count": 9,
   "id": "d45a46ab",
   "metadata": {},
   "outputs": [],
   "source": [
    "dataset = StreamingDataset(local='tokenized')"
   ]
  },
  {
   "cell_type": "code",
   "execution_count": 10,
   "id": "2e9c9eff",
   "metadata": {},
   "outputs": [
    {
     "data": {
      "text/plain": [
       "49726361600"
      ]
     },
     "execution_count": 10,
     "metadata": {},
     "output_type": "execute_result"
    }
   ],
   "source": [
    "len(dataset) * 4096"
   ]
  },
  {
   "cell_type": "code",
   "execution_count": 12,
   "id": "9d47c4f4",
   "metadata": {},
   "outputs": [
    {
     "name": "stdout",
     "output_type": "stream",
     "text": [
      "CPU times: user 0 ns, sys: 1.91 ms, total: 1.91 ms\n",
      "Wall time: 5.04 ms\n"
     ]
    },
    {
     "data": {
      "text/plain": [
       "{'input_ids': array([29871, 30198, 30177, ..., 30256, 30162, 29871], dtype=uint16)}"
      ]
     },
     "execution_count": 12,
     "metadata": {},
     "output_type": "execute_result"
    }
   ],
   "source": [
    "%%time\n",
    "\n",
    "dataset[7849]"
   ]
  },
  {
   "cell_type": "code",
   "execution_count": null,
   "id": "3f946398",
   "metadata": {},
   "outputs": [],
   "source": []
  }
 ],
 "metadata": {
  "kernelspec": {
   "display_name": "Python 3 (ipykernel)",
   "language": "python",
   "name": "python3"
  },
  "language_info": {
   "codemirror_mode": {
    "name": "ipython",
    "version": 3
   },
   "file_extension": ".py",
   "mimetype": "text/x-python",
   "name": "python",
   "nbconvert_exporter": "python",
   "pygments_lexer": "ipython3",
   "version": "3.10.12"
  }
 },
 "nbformat": 4,
 "nbformat_minor": 5
}

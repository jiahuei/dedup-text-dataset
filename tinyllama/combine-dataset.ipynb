{
 "cells": [
  {
   "cell_type": "code",
   "execution_count": 1,
   "id": "89ef6d1f",
   "metadata": {},
   "outputs": [],
   "source": [
    "import json\n",
    "import os\n",
    "from glob import glob\n",
    "from tqdm import tqdm"
   ]
  },
  {
   "cell_type": "code",
   "execution_count": 2,
   "id": "deea1adb",
   "metadata": {},
   "outputs": [
    {
     "data": {
      "text/plain": [
       "250"
      ]
     },
     "execution_count": 2,
     "metadata": {},
     "output_type": "execute_result"
    }
   ],
   "source": [
    "files = glob('/home/ubuntu/dedup-text-dataset/*.jsonl')\n",
    "len(files)"
   ]
  },
  {
   "cell_type": "code",
   "execution_count": 3,
   "id": "d928b86a",
   "metadata": {},
   "outputs": [],
   "source": [
    "def partition(text, size = 500):\n",
    "    splitted = text.split()\n",
    "    return [' '.join(splitted[i: i + size]) for i in range(0, len(splitted), size)]"
   ]
  },
  {
   "cell_type": "code",
   "execution_count": 4,
   "id": "2b2d2941",
   "metadata": {},
   "outputs": [],
   "source": [
    "wiki = [\n",
    "    'wikipedia-2023-10-01.jsonl',\n",
    "    'wikipedia-jawi.jsonl',\n",
    "]\n",
    "language_related = [\n",
    "    'dictionary.jsonl',\n",
    "    'dewanbahasa-jdbp.jsonl',\n",
    "    'dialect.jsonl',\n",
    "    'kamusbm.jsonl',\n",
    "]\n",
    "gov_related = [\n",
    "    'hansard.jsonl',\n",
    "    'lom.agc.gov.my.jsonl',\n",
    "    'parlimen-gov.jsonl',\n",
    "    'data.gov.my.jsonl',\n",
    "    'mufti_wilayah_articles.jsonl',\n",
    "    'e-khutbah.jsonl',\n",
    "    'mufti_negeri_sem_artikel.jsonl',\n",
    "    'mufti_perlis_artikel.jsonl',\n",
    "    'mufti_negeri_sem_artikel.jsonl',\n",
    "    'gov.my.jsonl',\n",
    "    'edu.my.jsonl',\n",
    "]\n",
    "research_papers = [\n",
    "    'academia-edu.jsonl',\n",
    "    'eprints.jsonl',\n",
    "]\n",
    "social_media = [\n",
    "    'iium-confession.jsonl',\n",
    "    'b.cari.com.my.jsonl',\n",
    "    'semisupervised-whisper-large-v2.jsonl',\n",
    "    'lowyat.jsonl',\n",
    "    'malay-tweets.jsonl'\n",
    "]\n",
    "common_crawl = [\n",
    "    'common-crawl.jsonl',\n",
    "    'NLLB.jsonl',\n",
    "]\n",
    "buku_teks = [\n",
    "    'buku-teks.jsonl',\n",
    "    'bumigemilang.com.jsonl',\n",
    "    'tcer.my.jsonl',\n",
    "    'mysoalan.com.jsonl'\n",
    "]"
   ]
  },
  {
   "cell_type": "code",
   "execution_count": 5,
   "id": "74e679cb",
   "metadata": {},
   "outputs": [],
   "source": [
    "combine = set(wiki) | set(language_related) | set(gov_related) | set(research_papers) | set(common_crawl) | set(buku_teks)"
   ]
  },
  {
   "cell_type": "code",
   "execution_count": 6,
   "id": "d58d2c75",
   "metadata": {},
   "outputs": [],
   "source": [
    "combine = {os.path.join('/home/ubuntu/dedup-text-dataset', f) for f in combine}"
   ]
  },
  {
   "cell_type": "code",
   "execution_count": 9,
   "id": "012aea9d",
   "metadata": {},
   "outputs": [
    {
     "data": {
      "text/plain": [
       "226"
      ]
     },
     "execution_count": 9,
     "metadata": {},
     "output_type": "execute_result"
    }
   ],
   "source": [
    "online_articles = sorted(list(set(files) - combine))\n",
    "len(online_articles)"
   ]
  },
  {
   "cell_type": "code",
   "execution_count": 10,
   "id": "8990ad98",
   "metadata": {},
   "outputs": [],
   "source": [
    "a = open('combine-lm.jsonl', 'w')"
   ]
  },
  {
   "cell_type": "code",
   "execution_count": 11,
   "id": "f15da06c",
   "metadata": {},
   "outputs": [
    {
     "name": "stderr",
     "output_type": "stream",
     "text": [
      "438316it [00:03, 111245.29it/s]\n",
      "722837it [00:36, 19698.75it/s]\n"
     ]
    }
   ],
   "source": [
    "for f in wiki:\n",
    "    f = os.path.join('/home/ubuntu/dedup-text-dataset', f)\n",
    "    with open(f) as fopen:\n",
    "        for l in tqdm(fopen):\n",
    "            try:\n",
    "                data = '<s>' + json.loads(l) + '</s>'\n",
    "                partitioned = partition(data)\n",
    "                for p in partitioned:\n",
    "                    data = {\n",
    "                        'text': p,\n",
    "                    }\n",
    "                    a.write(f'{json.dumps(data)}\\n')\n",
    "                    a.flush()\n",
    "            except:\n",
    "                pass"
   ]
  },
  {
   "cell_type": "code",
   "execution_count": 12,
   "id": "f3d740e3",
   "metadata": {},
   "outputs": [
    {
     "name": "stderr",
     "output_type": "stream",
     "text": [
      "54712it [00:01, 32659.31it/s]\n",
      "4577it [00:00, 6534.38it/s]\n",
      "66it [00:00, 6777.76it/s]\n",
      "34192it [00:00, 47483.95it/s]\n"
     ]
    }
   ],
   "source": [
    "for f in language_related:\n",
    "    f = os.path.join('/home/ubuntu/dedup-text-dataset', f)\n",
    "    with open(f) as fopen:\n",
    "        for l in tqdm(fopen):\n",
    "            try:\n",
    "                data = '<s>' + json.loads(l) + '</s>'\n",
    "                partitioned = partition(data)\n",
    "                for p in partitioned:\n",
    "                    data = {\n",
    "                        'text': p,\n",
    "                    }\n",
    "                    a.write(f'{json.dumps(data)}\\n')\n",
    "                    a.flush()\n",
    "            except:\n",
    "                pass"
   ]
  },
  {
   "cell_type": "code",
   "execution_count": 13,
   "id": "6da3e09d",
   "metadata": {},
   "outputs": [
    {
     "name": "stderr",
     "output_type": "stream",
     "text": [
      "183it [00:01, 156.23it/s]\n",
      "16120it [00:24, 667.16it/s] \n",
      "3625it [00:01, 2594.03it/s]\n",
      "900it [00:00, 1924.33it/s]\n"
     ]
    }
   ],
   "source": [
    "for f in buku_teks:\n",
    "    f = os.path.join('/home/ubuntu/dedup-text-dataset', f)\n",
    "    with open(f) as fopen:\n",
    "        for l in tqdm(fopen):\n",
    "            try:\n",
    "                data = '<s>' + json.loads(l) + '</s>'\n",
    "                partitioned = partition(data)\n",
    "                for p in partitioned:\n",
    "                    data = {\n",
    "                        'text': p,\n",
    "                    }\n",
    "                    a.write(f'{json.dumps(data)}\\n')\n",
    "                    a.flush()\n",
    "            except:\n",
    "                pass\n"
   ]
  },
  {
   "cell_type": "code",
   "execution_count": 14,
   "id": "fdd141ed",
   "metadata": {},
   "outputs": [
    {
     "name": "stderr",
     "output_type": "stream",
     "text": [
      "140932it [00:17, 8244.93it/s] \n",
      "1359it [00:01, 1245.81it/s]\n",
      "1687it [00:27, 61.99it/s] \n",
      "10889it [00:45, 240.46it/s]\n",
      "1712it [00:00, 2135.28it/s]\n",
      "809it [00:01, 787.46it/s] \n",
      "112it [00:00, 5375.28it/s]\n",
      "144it [00:00, 7236.58it/s]\n",
      "112it [00:00, 16045.98it/s]\n",
      "30055it [01:26, 349.32it/s] \n",
      "21590it [00:24, 889.70it/s] \n"
     ]
    }
   ],
   "source": [
    "for f in gov_related:\n",
    "    f = os.path.join('/home/ubuntu/dedup-text-dataset', f)\n",
    "    with open(f) as fopen:\n",
    "        for l in tqdm(fopen):\n",
    "            try:\n",
    "                data = '<s>' + json.loads(l) + '</s>'\n",
    "                partitioned = partition(data)\n",
    "                for p in partitioned:\n",
    "                    data = {\n",
    "                        'text': p,\n",
    "                    }\n",
    "                    a.write(f'{json.dumps(data)}\\n')\n",
    "                    a.flush()\n",
    "            except:\n",
    "                pass"
   ]
  },
  {
   "cell_type": "code",
   "execution_count": 15,
   "id": "364397ef",
   "metadata": {},
   "outputs": [],
   "source": [
    "rejected = [\n",
    "    'markah untuk setiap satu',\n",
    "    'soalan mesti dijawab dalam',\n",
    "    '25 markah',\n",
    "    '50 markah'\n",
    "]"
   ]
  },
  {
   "cell_type": "code",
   "execution_count": 16,
   "id": "3395c50f",
   "metadata": {},
   "outputs": [
    {
     "name": "stderr",
     "output_type": "stream",
     "text": [
      "787it [00:13, 58.82it/s] \n",
      "189419it [04:05, 772.71it/s] \n"
     ]
    }
   ],
   "source": [
    "for f in research_papers:\n",
    "    f = os.path.join('/home/ubuntu/dedup-text-dataset', f)\n",
    "    with open(f) as fopen:\n",
    "        for l in tqdm(fopen):\n",
    "            try:\n",
    "                data = '<s>' + json.loads(l) + '</s>'\n",
    "                    \n",
    "                data_lower = data.lower()\n",
    "                if any([r in data_lower for r in rejected]):\n",
    "                    continue\n",
    "                    \n",
    "                partitioned = partition(data)\n",
    "                for p in partitioned:\n",
    "                    data = {\n",
    "                        'text': p,\n",
    "                    }\n",
    "                    a.write(f'{json.dumps(data)}\\n')\n",
    "                    a.flush()\n",
    "            except:\n",
    "                pass"
   ]
  },
  {
   "cell_type": "code",
   "execution_count": 21,
   "id": "37a95e17",
   "metadata": {},
   "outputs": [
    {
     "name": "stderr",
     "output_type": "stream",
     "text": [
      "99962it [00:04, 23719.43it/s]\n",
      "99972it [00:04, 22830.10it/s]\n",
      "99959it [00:04, 22308.09it/s]\n",
      "99967it [00:05, 18634.38it/s]\n",
      "99968it [00:04, 21707.92it/s]\n",
      "99966it [00:04, 22896.39it/s]\n",
      "99968it [00:04, 23066.00it/s]\n",
      "99971it [00:04, 23476.34it/s]\n",
      "99968it [00:05, 19613.10it/s]\n",
      "99966it [00:04, 23849.58it/s]\n",
      "99971it [00:04, 24017.88it/s]\n",
      "99962it [00:04, 23989.13it/s]\n",
      "99958it [00:04, 24042.06it/s]\n",
      "99968it [00:03, 25382.96it/s]\n",
      "99972it [00:03, 25880.45it/s]\n",
      "99967it [00:05, 18903.54it/s]\n",
      "99959it [00:02, 36181.10it/s]\n",
      "99960it [00:02, 34426.30it/s]\n",
      "99963it [00:02, 35347.83it/s]\n",
      "99966it [00:02, 33672.03it/s]\n",
      "99972it [00:02, 35816.77it/s]\n",
      "99965it [00:02, 35511.42it/s]\n",
      "99968it [00:02, 38051.73it/s]\n",
      "99966it [00:03, 29586.09it/s]\n",
      "99965it [00:03, 32357.42it/s]\n",
      "99968it [00:02, 33773.58it/s]\n",
      "99969it [00:02, 33699.62it/s]\n",
      "99981it [00:02, 33466.10it/s]\n",
      "99974it [00:02, 34037.28it/s]\n",
      "99967it [00:02, 36187.58it/s]\n",
      "99970it [00:02, 36296.37it/s]\n",
      "99972it [00:02, 37056.53it/s]\n",
      "99969it [00:02, 35155.05it/s]\n"
     ]
    }
   ],
   "source": [
    "google_translate = glob('../google-translate-*/*.requested')\n",
    "for f in google_translate:\n",
    "    with open(f) as fopen:\n",
    "        for l in tqdm(fopen):\n",
    "            try:\n",
    "                data = '<s>' + json.loads(l)['r']['result'] + '</s>'\n",
    "                partitioned = partition(data)\n",
    "                for p in partitioned:\n",
    "                    data = {\n",
    "                        'text': p,\n",
    "                    }\n",
    "                    a.write(f'{json.dumps(data)}\\n')\n",
    "                    a.flush()\n",
    "            except:\n",
    "                pass"
   ]
  },
  {
   "cell_type": "code",
   "execution_count": 18,
   "id": "0fe9c6c2",
   "metadata": {},
   "outputs": [
    {
     "name": "stderr",
     "output_type": "stream",
     "text": [
      "14954it [00:01, 10894.68it/s]\n",
      "172it [00:00, 18637.98it/s]\n",
      "20763it [00:02, 8385.71it/s]\n",
      "640it [00:00, 5550.44it/s]\n",
      "74it [00:00, 1529.45it/s]\n",
      "1733it [00:00, 6323.22it/s]\n",
      "33730it [00:01, 17780.16it/s]\n",
      "87it [00:00, 4190.35it/s]\n",
      "47it [00:00, 3255.80it/s]\n",
      "1263it [00:00, 3803.55it/s]\n",
      "9672it [00:00, 11083.29it/s]\n",
      "5400it [00:00, 8948.00it/s] \n",
      "4307116it [02:47, 25767.21it/s]\n",
      "4425it [00:00, 13679.06it/s]\n",
      "269it [00:00, 3357.79it/s]\n",
      "3645it [00:00, 5728.68it/s]\n",
      "1589it [00:00, 3652.49it/s]\n",
      "385it [00:00, 8533.79it/s]\n",
      "17004it [00:03, 5327.82it/s]\n",
      "176it [00:00, 3251.67it/s]\n",
      "233it [00:00, 4424.91it/s]\n",
      "1427it [00:00, 3931.15it/s]\n",
      "341it [00:00, 1927.18it/s]\n",
      "1546it [00:00, 2611.89it/s]\n",
      "46it [00:00, 3129.72it/s]\n",
      "140it [00:00, 6238.61it/s]\n",
      "11678it [00:01, 7692.74it/s]\n",
      "14354834it [08:03, 29665.45it/s]\n",
      "15257673it [06:04, 41888.58it/s]\n",
      "12326it [00:01, 7624.93it/s]\n",
      "24482it [00:03, 7180.34it/s]\n",
      "947it [00:00, 3337.98it/s]\n",
      "39678991it [13:31, 48890.93it/s]\n",
      "62863it [02:33, 410.56it/s]\n",
      "512it [00:00, 5580.47it/s]\n",
      "3506it [00:00, 5136.53it/s]\n",
      "1459it [00:00, 5655.53it/s]\n",
      "6285it [00:00, 9727.06it/s] \n",
      "53158it [00:06, 8094.40it/s] \n",
      "95it [00:00, 1473.01it/s]\n",
      "788it [00:00, 5496.89it/s]\n",
      "24411it [00:04, 5559.18it/s]\n",
      "1932it [00:00, 5574.75it/s]\n",
      "151it [00:00, 4291.42it/s]\n",
      "12000it [00:00, 28664.02it/s]\n",
      "37it [00:00, 1747.00it/s]\n",
      "10229it [00:00, 14958.46it/s]\n",
      "191248it [00:03, 62951.76it/s]\n",
      "6976it [00:03, 2140.36it/s]\n",
      "1160it [00:00, 6913.97it/s]\n",
      "937it [00:00, 4705.94it/s]\n",
      "16169it [00:01, 8320.55it/s]\n",
      "12914it [00:02, 6059.67it/s]\n",
      "1647it [00:00, 16464.28it/s]\n",
      "12it [00:00, 711.34it/s]\n",
      "19992it [00:03, 6614.31it/s]\n",
      "56661it [00:10, 5316.37it/s]\n",
      "5747it [00:00, 9008.17it/s] \n",
      "7072it [00:15, 467.31it/s]\n",
      "1252it [00:24, 51.38it/s]\n",
      "45326it [00:14, 3195.90it/s]\n",
      "16605209it [06:50, 40477.84it/s]\n",
      "3888it [00:00, 26135.63it/s]\n",
      "223it [00:00, 2769.62it/s]\n",
      "36468it [00:15, 2389.90it/s]\n",
      "6848it [00:00, 7289.82it/s]\n",
      "139it [00:00, 5238.22it/s]\n",
      "13145it [00:01, 7382.38it/s]\n",
      "13it [00:00, 821.82it/s]\n",
      "42it [00:00, 3151.81it/s]\n",
      "28180it [00:06, 4604.27it/s]\n",
      "3370it [00:00, 5489.00it/s]\n",
      "27178it [00:05, 4902.18it/s]\n",
      "8447it [00:01, 5286.07it/s]\n",
      "473it [00:00, 10835.39it/s]\n",
      "3502it [00:01, 3470.43it/s]\n",
      "70it [00:00, 5313.67it/s]\n",
      "1216it [00:00, 3796.87it/s]\n",
      "11076it [00:00, 11941.81it/s]\n",
      "391it [00:00, 5001.18it/s]\n",
      "65it [00:00, 1809.37it/s]\n",
      "791574it [00:23, 34135.57it/s]\n",
      "8200it [00:00, 12380.55it/s]\n",
      "8732it [00:00, 9169.50it/s]\n",
      "16443it [00:02, 8172.02it/s]\n",
      "58it [00:00, 2738.14it/s]\n",
      "100it [00:00, 3164.80it/s]\n",
      "2530it [00:00, 4515.59it/s]\n",
      "13105it [00:01, 9459.15it/s]\n",
      "7226it [00:00, 12663.99it/s]\n",
      "18860it [00:02, 9387.65it/s]\n",
      "11236it [00:01, 10280.29it/s]\n",
      "5103it [00:00, 6687.50it/s]\n",
      "51691it [00:03, 13573.37it/s]\n",
      "532it [00:00, 5441.08it/s]\n",
      "4921it [00:00, 9552.72it/s]\n",
      "3948it [00:00, 4798.99it/s]\n",
      "28986it [00:03, 9571.28it/s] \n",
      "17097584it [07:16, 39180.51it/s]\n",
      "1627it [00:00, 19123.95it/s]\n",
      "6751it [00:01, 5736.18it/s]\n",
      "638it [00:00, 6016.81it/s]\n",
      "1884790it [00:42, 44610.13it/s]\n",
      "17918it [00:01, 16990.15it/s]\n",
      "1523it [00:00, 1595.07it/s]\n",
      "3442it [00:00, 4057.72it/s]\n",
      "23826it [00:07, 3318.96it/s]\n",
      "8593it [00:00, 65336.76it/s]\n",
      "3365it [00:01, 2819.07it/s]\n",
      "1473823it [01:42, 14381.34it/s]]\n",
      "43it [00:00, 2920.68it/s]\n",
      "7106it [00:00, 9675.14it/s]\n",
      "49it [00:00, 5425.72it/s]\n",
      "40it [00:00, 2217.86it/s]\n",
      "16144it [00:01, 9979.84it/s] \n",
      "13202it [00:00, 13759.82it/s]\n",
      "9221it [00:02, 3446.42it/s]\n",
      "572it [00:00, 9073.50it/s]\n",
      "68it [00:00, 9037.16it/s]\n",
      "13529it [00:01, 12338.15it/s]\n",
      "1006it [00:00, 4391.90it/s]\n",
      "22491it [00:01, 13903.39it/s]\n",
      "5798716it [02:27, 39238.53it/s]\n",
      "6418it [00:00, 10857.54it/s]\n",
      "523it [00:00, 4755.81it/s]\n",
      "66212it [00:07, 8309.07it/s]\n",
      "2368it [00:00, 12551.97it/s]\n",
      "17893it [00:03, 5017.81it/s]\n",
      "5561it [00:01, 4489.72it/s]\n",
      "4702it [00:00, 7614.94it/s]\n",
      "2839348it [05:08, 9211.44it/s] \n",
      "3664it [00:00, 9127.13it/s]\n",
      "9359it [00:01, 7829.33it/s]\n",
      "1143it [00:00, 3857.19it/s]\n",
      "32085it [00:03, 9530.53it/s] \n",
      "9865it [00:00, 13138.66it/s]\n",
      "70it [00:00, 3997.62it/s]\n",
      "3819it [00:00, 6291.70it/s]\n",
      "440752it [01:19, 5557.69it/s]\n",
      "2132it [00:00, 17264.51it/s]\n",
      "89it [00:00, 8071.20it/s]\n",
      "10483it [00:02, 3684.32it/s]\n",
      "20320it [00:02, 10006.46it/s]\n",
      "5714it [01:52, 50.74it/s]\n",
      "6204it [00:00, 6723.99it/s]\n",
      "14158it [00:01, 7998.83it/s]\n",
      "1619it [00:00, 57223.81it/s]\n",
      "2877it [00:00, 3953.05it/s]\n",
      "298it [00:00, 2244.25it/s]\n",
      "240it [00:00, 2583.44it/s]\n",
      "276it [00:00, 5489.20it/s]\n",
      "153it [00:00, 4083.52it/s]\n",
      "1092497it [00:22, 49494.61it/s]\n",
      "1245it [00:00, 7314.50it/s]\n",
      "348it [00:00, 5098.60it/s]\n",
      "547it [00:00, 2910.03it/s]\n",
      "726it [00:00, 5603.07it/s]\n",
      "36449it [00:05, 7249.98it/s]\n",
      "22818it [00:01, 15429.31it/s]\n",
      "42143it [00:02, 14570.15it/s]\n",
      "1138it [00:00, 3688.38it/s]\n",
      "12172it [00:01, 11705.72it/s]\n",
      "1045it [00:00, 6190.29it/s]\n",
      "230208it [00:07, 31599.29it/s]\n",
      "22542it [00:03, 6277.81it/s]\n",
      "446589it [00:54, 8140.34it/s] \n",
      "48401it [00:03, 15425.52it/s]\n",
      "31050it [00:04, 6545.05it/s] \n",
      "76290it [00:42, 1804.68it/s]\n",
      "6400it [00:00, 7179.50it/s]\n",
      "297it [00:00, 5518.38it/s]\n",
      "51302it [00:04, 11885.60it/s]\n",
      "286it [00:00, 6233.58it/s]\n",
      "3071it [00:00, 20914.11it/s]\n",
      "13101it [00:01, 12853.68it/s]\n",
      "1171628it [02:29, 7847.57it/s] \n",
      "8504it [00:01, 7520.92it/s]\n",
      "629779it [00:21, 29129.38it/s]\n",
      "209173it [00:56, 3720.40it/s] \n",
      "216it [00:00, 5533.82it/s]\n",
      "1074it [00:00, 10298.37it/s]\n",
      "1578it [00:00, 41766.76it/s]\n",
      "984it [00:00, 7414.05it/s]\n",
      "753it [00:00, 6294.15it/s]\n",
      "101it [00:00, 1987.69it/s]\n",
      "91it [00:00, 5650.53it/s]\n",
      "3578it [00:00, 12384.47it/s]\n",
      "4122it [00:00, 9987.97it/s] \n",
      "24it [00:00, 958.74it/s]\n",
      "1333it [00:00, 3689.43it/s]\n",
      "64241it [00:10, 6257.51it/s]\n",
      "416it [00:00, 2173.00it/s]\n",
      "4591it [00:00, 5202.72it/s]\n",
      "300it [00:00, 6078.44it/s]\n",
      "48it [00:00, 3257.13it/s]\n",
      "25040it [00:01, 13233.81it/s]\n",
      "220it [00:00, 1930.14it/s]\n",
      "644it [00:00, 5557.76it/s]\n",
      "371844it [00:41, 8879.31it/s] \n",
      "404it [00:00, 2102.69it/s]\n",
      "373694it [00:47, 7862.82it/s] \n",
      "597it [00:00, 3784.22it/s]\n",
      "281536it [00:10, 26009.62it/s]\n",
      "11439it [00:01, 7353.72it/s]\n",
      "168it [00:00, 3825.53it/s]\n",
      "839it [00:00, 3967.18it/s]\n",
      "5550it [00:00, 27481.98it/s]\n",
      "3626it [00:00, 9129.57it/s]\n",
      "772it [00:00, 3032.13it/s]\n",
      "711it [00:00, 6930.16it/s]\n",
      "5407it [00:00, 8731.03it/s]\n",
      "82470it [00:07, 11552.29it/s]\n",
      "13321it [00:01, 9278.74it/s]\n",
      "7363it [00:01, 6218.50it/s]\n",
      "3834it [00:00, 8387.99it/s]\n",
      "65it [00:00, 1071.77it/s]\n",
      "25073it [00:02, 9990.43it/s] \n",
      "11314it [00:00, 28991.64it/s]\n",
      "24096it [00:00, 28167.92it/s]\n",
      "15277it [00:01, 10683.75it/s]\n",
      "84it [00:00, 3984.05it/s]\n",
      "327it [00:00, 4435.85it/s]\n"
     ]
    }
   ],
   "source": [
    "for f in online_articles:\n",
    "    with open(f) as fopen:\n",
    "        for l in tqdm(fopen):\n",
    "            try:\n",
    "                data = '<s>' + json.loads(l) + '</s>'\n",
    "                partitioned = partition(data)\n",
    "                for p in partitioned:\n",
    "                    data = {\n",
    "                        'text': p,\n",
    "                    }\n",
    "                    a.write(f'{json.dumps(data)}\\n')\n",
    "                    a.flush()\n",
    "            except:\n",
    "                pass"
   ]
  },
  {
   "cell_type": "code",
   "execution_count": 32,
   "id": "6929dad5",
   "metadata": {},
   "outputs": [
    {
     "name": "stderr",
     "output_type": "stream",
     "text": [
      "5000000it [10:53, 7655.58it/s] \n",
      "4081851it [12:36, 5392.48it/s]\n",
      "5000000it [15:07, 5509.55it/s]\n"
     ]
    }
   ],
   "source": [
    "madlad_ms = glob('../madlad-400-ms/*')\n",
    "for f in madlad_ms:\n",
    "    with open(f) as fopen:\n",
    "        for l in tqdm(fopen):\n",
    "            try:\n",
    "                data = '<s>' + json.loads(l)['text'] + '</s>'\n",
    "                partitioned = partition(data)\n",
    "                for p in partitioned:\n",
    "                    data = {\n",
    "                        'text': p,\n",
    "                    }\n",
    "                    a.write(f'{json.dumps(data)}\\n')\n",
    "                    a.flush()\n",
    "            except:\n",
    "                pass"
   ]
  }
 ],
 "metadata": {
  "kernelspec": {
   "display_name": "Python 3 (ipykernel)",
   "language": "python",
   "name": "python3"
  },
  "language_info": {
   "codemirror_mode": {
    "name": "ipython",
    "version": 3
   },
   "file_extension": ".py",
   "mimetype": "text/x-python",
   "name": "python",
   "nbconvert_exporter": "python",
   "pygments_lexer": "ipython3",
   "version": "3.10.12"
  }
 },
 "nbformat": 4,
 "nbformat_minor": 5
}
